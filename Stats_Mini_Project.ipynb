{
 "cells": [
  {
   "cell_type": "markdown",
   "metadata": {},
   "source": [
    "# Mini Project"
   ]
  },
  {
   "cell_type": "markdown",
   "metadata": {},
   "source": [
    "## EDA  and Statistical Analysis for a Sport comany to predict the best Players for Team."
   ]
  },
  {
   "cell_type": "code",
   "execution_count": 2,
   "metadata": {},
   "outputs": [],
   "source": [
    "# import Libraries"
   ]
  },
  {
   "cell_type": "code",
   "execution_count": 1,
   "metadata": {},
   "outputs": [],
   "source": [
    "import numpy as np\n",
    "import pandas as pd\n",
    "import seaborn as sns\n",
    "import matplotlib.pyplot as plt\n",
    "import scipy.stats as stats\n",
    "\n",
    "%matplotlib inline"
   ]
  },
  {
   "cell_type": "markdown",
   "metadata": {},
   "source": [
    "----------------------"
   ]
  },
  {
   "cell_type": "markdown",
   "metadata": {},
   "source": [
    "1. You were recently hired as a business analyst in a top sports company. \n",
    "The senior management team has asked you to come up with metrics with which they can gauge which team will win the upcoming La Liga cup (Football tournament). The given data set contains information on all the teams that have so far participated in all the past tournaments. It has data about how many goals each team scored, conceded; how many times they came within the first 6 positions, how many seasons they have qualified, their best position in the past, etc. \n",
    "\n",
    "You are required to do the following:\n",
    "\n",
    "Before doing any analysis it would be a good idea to check for any hypens or other symbols the data set and make appropriate replacements to make sure you can perform arithmetic operations on the data."
   ]
  },
  {
   "cell_type": "code",
   "execution_count": 41,
   "metadata": {},
   "outputs": [
    {
     "data": {
      "text/html": [
       "<div>\n",
       "<style scoped>\n",
       "    .dataframe tbody tr th:only-of-type {\n",
       "        vertical-align: middle;\n",
       "    }\n",
       "\n",
       "    .dataframe tbody tr th {\n",
       "        vertical-align: top;\n",
       "    }\n",
       "\n",
       "    .dataframe thead th {\n",
       "        text-align: right;\n",
       "    }\n",
       "</style>\n",
       "<table border=\"1\" class=\"dataframe\">\n",
       "  <thead>\n",
       "    <tr style=\"text-align: right;\">\n",
       "      <th></th>\n",
       "      <th>Pos</th>\n",
       "      <th>Team</th>\n",
       "      <th>Seasons</th>\n",
       "      <th>Points</th>\n",
       "      <th>GamesPlayed</th>\n",
       "      <th>GamesWon</th>\n",
       "      <th>GamesDrawn</th>\n",
       "      <th>GamesLost</th>\n",
       "      <th>GoalsFor</th>\n",
       "      <th>GoalsAgainst</th>\n",
       "      <th>Champion</th>\n",
       "      <th>Runner-up</th>\n",
       "      <th>Third</th>\n",
       "      <th>Fourth</th>\n",
       "      <th>Fifth</th>\n",
       "      <th>Sixth</th>\n",
       "      <th>T</th>\n",
       "      <th>Debut</th>\n",
       "      <th>Since/LastApp</th>\n",
       "      <th>BestPosition</th>\n",
       "    </tr>\n",
       "  </thead>\n",
       "  <tbody>\n",
       "    <tr>\n",
       "      <td>1</td>\n",
       "      <td>1</td>\n",
       "      <td>Real Madrid</td>\n",
       "      <td>86</td>\n",
       "      <td>4385</td>\n",
       "      <td>2762</td>\n",
       "      <td>1647</td>\n",
       "      <td>552</td>\n",
       "      <td>563</td>\n",
       "      <td>5947</td>\n",
       "      <td>3140</td>\n",
       "      <td>33</td>\n",
       "      <td>23</td>\n",
       "      <td>8</td>\n",
       "      <td>8</td>\n",
       "      <td>3</td>\n",
       "      <td>4</td>\n",
       "      <td>79</td>\n",
       "      <td>1929</td>\n",
       "      <td>1929</td>\n",
       "      <td>1</td>\n",
       "    </tr>\n",
       "    <tr>\n",
       "      <td>2</td>\n",
       "      <td>2</td>\n",
       "      <td>Barcelona</td>\n",
       "      <td>86</td>\n",
       "      <td>4262</td>\n",
       "      <td>2762</td>\n",
       "      <td>1581</td>\n",
       "      <td>573</td>\n",
       "      <td>608</td>\n",
       "      <td>5900</td>\n",
       "      <td>3114</td>\n",
       "      <td>25</td>\n",
       "      <td>25</td>\n",
       "      <td>12</td>\n",
       "      <td>12</td>\n",
       "      <td>4</td>\n",
       "      <td>6</td>\n",
       "      <td>83</td>\n",
       "      <td>1929</td>\n",
       "      <td>1929</td>\n",
       "      <td>1</td>\n",
       "    </tr>\n",
       "    <tr>\n",
       "      <td>3</td>\n",
       "      <td>3</td>\n",
       "      <td>Atletico Madrid</td>\n",
       "      <td>80</td>\n",
       "      <td>3442</td>\n",
       "      <td>2614</td>\n",
       "      <td>1241</td>\n",
       "      <td>598</td>\n",
       "      <td>775</td>\n",
       "      <td>4534</td>\n",
       "      <td>3309</td>\n",
       "      <td>10</td>\n",
       "      <td>8</td>\n",
       "      <td>16</td>\n",
       "      <td>9</td>\n",
       "      <td>7</td>\n",
       "      <td>6</td>\n",
       "      <td>56</td>\n",
       "      <td>1929</td>\n",
       "      <td>2002-03</td>\n",
       "      <td>1</td>\n",
       "    </tr>\n",
       "    <tr>\n",
       "      <td>4</td>\n",
       "      <td>4</td>\n",
       "      <td>Valencia</td>\n",
       "      <td>82</td>\n",
       "      <td>3386</td>\n",
       "      <td>2664</td>\n",
       "      <td>1187</td>\n",
       "      <td>616</td>\n",
       "      <td>861</td>\n",
       "      <td>4398</td>\n",
       "      <td>3469</td>\n",
       "      <td>6</td>\n",
       "      <td>6</td>\n",
       "      <td>10</td>\n",
       "      <td>11</td>\n",
       "      <td>10</td>\n",
       "      <td>7</td>\n",
       "      <td>50</td>\n",
       "      <td>1931-32</td>\n",
       "      <td>1987-88</td>\n",
       "      <td>1</td>\n",
       "    </tr>\n",
       "    <tr>\n",
       "      <td>5</td>\n",
       "      <td>5</td>\n",
       "      <td>Athletic Bilbao</td>\n",
       "      <td>86</td>\n",
       "      <td>3368</td>\n",
       "      <td>2762</td>\n",
       "      <td>1209</td>\n",
       "      <td>633</td>\n",
       "      <td>920</td>\n",
       "      <td>4631</td>\n",
       "      <td>3700</td>\n",
       "      <td>8</td>\n",
       "      <td>7</td>\n",
       "      <td>10</td>\n",
       "      <td>5</td>\n",
       "      <td>8</td>\n",
       "      <td>10</td>\n",
       "      <td>49</td>\n",
       "      <td>1929</td>\n",
       "      <td>1929</td>\n",
       "      <td>1</td>\n",
       "    </tr>\n",
       "  </tbody>\n",
       "</table>\n",
       "</div>"
      ],
      "text/plain": [
       "0 Pos             Team Seasons Points GamesPlayed GamesWon GamesDrawn  \\\n",
       "1   1      Real Madrid      86   4385        2762     1647        552   \n",
       "2   2        Barcelona      86   4262        2762     1581        573   \n",
       "3   3  Atletico Madrid      80   3442        2614     1241        598   \n",
       "4   4         Valencia      82   3386        2664     1187        616   \n",
       "5   5  Athletic Bilbao      86   3368        2762     1209        633   \n",
       "\n",
       "0 GamesLost GoalsFor GoalsAgainst Champion Runner-up Third Fourth Fifth Sixth  \\\n",
       "1       563     5947         3140       33        23     8      8     3     4   \n",
       "2       608     5900         3114       25        25    12     12     4     6   \n",
       "3       775     4534         3309       10         8    16      9     7     6   \n",
       "4       861     4398         3469        6         6    10     11    10     7   \n",
       "5       920     4631         3700        8         7    10      5     8    10   \n",
       "\n",
       "0   T    Debut Since/LastApp BestPosition  \n",
       "1  79     1929          1929            1  \n",
       "2  83     1929          1929            1  \n",
       "3  56     1929       2002-03            1  \n",
       "4  50  1931-32       1987-88            1  \n",
       "5  49     1929          1929            1  "
      ]
     },
     "execution_count": 41,
     "metadata": {},
     "output_type": "execute_result"
    }
   ],
   "source": [
    "laliga = pd.read_csv('Laliga.csv')\n",
    "headers = laliga.loc[0]\n",
    "laliga.columns = headers\n",
    "laliga.drop(laliga.head(1).index,inplace = True)\n",
    "laliga.head()"
   ]
  },
  {
   "cell_type": "markdown",
   "metadata": {},
   "source": [
    "#### Refining the Datset:\n",
    "\n",
    "* `Debut          : Considering First year[1931 will be considered from 1931-32]`\n",
    "* `Since/LastApp  : Considering Last year[1932 will be considered from 1931-32]`\n",
    "* `No Null Values in the Dataset but one Record where GamesPlayed is '-' : Removing the same`"
   ]
  },
  {
   "cell_type": "code",
   "execution_count": 42,
   "metadata": {},
   "outputs": [],
   "source": [
    "def debut_splitter(x):\n",
    "    return x.split('-')[0]\n",
    "\n",
    "def last_appeared_splitter(x):\n",
    "    return x[:2:]+x[-2::]\n",
    "\n",
    "laliga['Debut'] = laliga['Debut'].apply(debut_splitter).astype('int64')\n",
    "\n",
    "laliga['Since/LastApp'] = laliga['Since/LastApp'].apply(last_appeared_splitter).astype('int64')\n",
    "\n",
    "laliga.drop(laliga[laliga['GamesPlayed']=='-'].index,inplace=True)"
   ]
  },
  {
   "cell_type": "markdown",
   "metadata": {},
   "source": [
    "* 1.\tWhich are the teams which started playing between 1930-1980?"
   ]
  },
  {
   "cell_type": "code",
   "execution_count": 48,
   "metadata": {},
   "outputs": [
    {
     "name": "stdout",
     "output_type": "stream",
     "text": [
      "Teams : \n",
      "0                  Team  Debut\n",
      "29               Alaves   1930\n",
      "4              Valencia   1931\n",
      "10           Real Betis   1932\n",
      "18               Oviedo   1933\n",
      "6               Sevilla   1934\n",
      "26             Hercules   1935\n",
      "16              Osasuna   1935\n",
      "9              Zaragoza   1939\n",
      "12           Celta Vigo   1939\n",
      "28               Murcia   1940\n",
      "22              Granada   1941\n",
      "11  Deportivo La Coruna   1941\n",
      "35            Castellon   1941\n",
      "32             Sabadell   1943\n",
      "15       Sporting Gijon   1944\n",
      "50             Alcoyano   1945\n",
      "47            Gimnastic   1947\n",
      "13           Valladolid   1948\n",
      "17               Malaga   1949\n",
      "55               Lleida   1950\n",
      "20           Las Palmas   1951\n",
      "59      Atletico Tetuan   1951\n",
      "51                 Jaen   1953\n",
      "60     Cultural Leonesa   1955\n",
      "58               Condal   1956\n",
      "24                Elche   1959\n",
      "19             Mallorca   1960\n",
      "27             Tenerife   1961\n",
      "38              Cordoba   1962\n",
      "30              Levante   1963\n",
      "42           Pontevedra   1963\n",
      "41            Burgos CF   1971\n",
      "31            Salamanca   1974\n",
      "23       Rayo Vallecano   1977\n",
      "33                Cadiz   1977\n",
      "40           Recreativo   1978\n",
      "53           AD Almeria   1979\n"
     ]
    }
   ],
   "source": [
    "# Teams which made Debut in year range : 1930-1980\n",
    "print('Teams : ')\n",
    "print(laliga[(laliga['Debut'] >= 1930) & (laliga['Debut'] <= 1980)][['Team','Debut']].sort_values('Debut'))"
   ]
  },
  {
   "cell_type": "markdown",
   "metadata": {},
   "source": [
    "* 2.\tWhich are the top 5 teams in terms of points?"
   ]
  },
  {
   "cell_type": "code",
   "execution_count": 52,
   "metadata": {},
   "outputs": [
    {
     "data": {
      "text/html": [
       "<div>\n",
       "<style scoped>\n",
       "    .dataframe tbody tr th:only-of-type {\n",
       "        vertical-align: middle;\n",
       "    }\n",
       "\n",
       "    .dataframe tbody tr th {\n",
       "        vertical-align: top;\n",
       "    }\n",
       "\n",
       "    .dataframe thead th {\n",
       "        text-align: right;\n",
       "    }\n",
       "</style>\n",
       "<table border=\"1\" class=\"dataframe\">\n",
       "  <thead>\n",
       "    <tr style=\"text-align: right;\">\n",
       "      <th></th>\n",
       "      <th>Team</th>\n",
       "      <th>Points</th>\n",
       "    </tr>\n",
       "  </thead>\n",
       "  <tbody>\n",
       "    <tr>\n",
       "      <td>21</td>\n",
       "      <td>Villarreal</td>\n",
       "      <td>970</td>\n",
       "    </tr>\n",
       "    <tr>\n",
       "      <td>46</td>\n",
       "      <td>Real Burgos</td>\n",
       "      <td>96</td>\n",
       "    </tr>\n",
       "    <tr>\n",
       "      <td>47</td>\n",
       "      <td>Gimnastic</td>\n",
       "      <td>91</td>\n",
       "    </tr>\n",
       "    <tr>\n",
       "      <td>48</td>\n",
       "      <td>Extremadura</td>\n",
       "      <td>83</td>\n",
       "    </tr>\n",
       "    <tr>\n",
       "      <td>49</td>\n",
       "      <td>Merida</td>\n",
       "      <td>81</td>\n",
       "    </tr>\n",
       "  </tbody>\n",
       "</table>\n",
       "</div>"
      ],
      "text/plain": [
       "0          Team Points\n",
       "21   Villarreal    970\n",
       "46  Real Burgos     96\n",
       "47    Gimnastic     91\n",
       "48  Extremadura     83\n",
       "49       Merida     81"
      ]
     },
     "execution_count": 52,
     "metadata": {},
     "output_type": "execute_result"
    }
   ],
   "source": [
    "#Top 5 Teams on basis of Points \n",
    "laliga.sort_values('Points',ascending = False)[['Team','Points']].head(5)"
   ]
  },
  {
   "cell_type": "markdown",
   "metadata": {},
   "source": [
    "* 3.\tWhat is the distribution of the winning percentage for all teams? Which teams are in the top 5 in terms of winning percentage? (Winning percentage= (GamesWon / GamesPlayed)*100)"
   ]
  },
  {
   "cell_type": "code",
   "execution_count": 72,
   "metadata": {},
   "outputs": [
    {
     "data": {
      "text/plain": [
       "<matplotlib.axes._subplots.AxesSubplot at 0x2bf49343048>"
      ]
     },
     "execution_count": 72,
     "metadata": {},
     "output_type": "execute_result"
    },
    {
     "data": {
      "image/png": "[encoded data removed]",
      "text/plain": [
       "<Figure size 432x288 with 1 Axes>"
      ]
     },
     "metadata": {
      "needs_background": "light"
     },
     "output_type": "display_data"
    }
   ],
   "source": [
    "laliga['Winning_Percentage'] = (laliga['GamesWon'].astype('int64')/laliga['GamesPlayed'].astype('int64'))*100\n",
    "sns.distplot(laliga['Winning_Percentage'])"
   ]
  },
  {
   "cell_type": "code",
   "execution_count": 80,
   "metadata": {},
   "outputs": [
    {
     "name": "stdout",
     "output_type": "stream",
     "text": [
      "p_value : 0.0001\n"
     ]
    }
   ],
   "source": [
    "test_stat,p_value = stats.shapiro(laliga['Winning_Percentage'])\n",
    "print('p_value :',np.round(p_value,4))"
   ]
  },
  {
   "cell_type": "markdown",
   "metadata": {},
   "source": [
    "#### Conclusion:\n",
    "\n",
    "* `We can conclude by Shapiro Wilk Test that, Winning Percentage for Teams is not Normally Distributed`"
   ]
  },
  {
   "cell_type": "code",
   "execution_count": 159,
   "metadata": {},
   "outputs": [
    {
     "name": "stdout",
     "output_type": "stream",
     "text": [
      "(0.7095597982406616, 0.00470982538536191)\n"
     ]
    },
    {
     "data": {
      "text/plain": [
       "<matplotlib.axes._subplots.AxesSubplot at 0x2bf4ce11d88>"
      ]
     },
     "execution_count": 159,
     "metadata": {},
     "output_type": "execute_result"
    },
    {
     "data": {
      "image/png": "[encoded data removed]",
      "text/plain": [
       "<Figure size 432x288 with 1 Axes>"
      ]
     },
     "metadata": {
      "needs_background": "light"
     },
     "output_type": "display_data"
    }
   ],
   "source": [
    "print(stats.shapiro([1,2,3,4,88,99,100]))\n",
    "l1 = [1,2,3,4,88,99,100]\n",
    "sns.distplot(l1)"
   ]
  },
  {
   "cell_type": "markdown",
   "metadata": {},
   "source": [
    "* 4.\tIs there a significant difference in the winning percentage for teams which have attained a best position between 1-3 and those teams which have had a best position between 4-7.\n"
   ]
  },
  {
   "cell_type": "code",
   "execution_count": 84,
   "metadata": {},
   "outputs": [
    {
     "data": {
      "text/html": [
       "<div>\n",
       "<style scoped>\n",
       "    .dataframe tbody tr th:only-of-type {\n",
       "        vertical-align: middle;\n",
       "    }\n",
       "\n",
       "    .dataframe tbody tr th {\n",
       "        vertical-align: top;\n",
       "    }\n",
       "\n",
       "    .dataframe thead th {\n",
       "        text-align: right;\n",
       "    }\n",
       "</style>\n",
       "<table border=\"1\" class=\"dataframe\">\n",
       "  <thead>\n",
       "    <tr style=\"text-align: right;\">\n",
       "      <th></th>\n",
       "      <th>Pos</th>\n",
       "      <th>Team</th>\n",
       "      <th>Seasons</th>\n",
       "      <th>Points</th>\n",
       "      <th>GamesPlayed</th>\n",
       "      <th>GamesWon</th>\n",
       "      <th>GamesDrawn</th>\n",
       "      <th>GamesLost</th>\n",
       "      <th>GoalsFor</th>\n",
       "      <th>GoalsAgainst</th>\n",
       "      <th>...</th>\n",
       "      <th>Third</th>\n",
       "      <th>Fourth</th>\n",
       "      <th>Fifth</th>\n",
       "      <th>Sixth</th>\n",
       "      <th>T</th>\n",
       "      <th>Debut</th>\n",
       "      <th>Since/LastApp</th>\n",
       "      <th>BestPosition</th>\n",
       "      <th>Winning_Percentage</th>\n",
       "      <th>Position_Label</th>\n",
       "    </tr>\n",
       "  </thead>\n",
       "  <tbody>\n",
       "    <tr>\n",
       "      <td>1</td>\n",
       "      <td>1</td>\n",
       "      <td>Real Madrid</td>\n",
       "      <td>86</td>\n",
       "      <td>4385</td>\n",
       "      <td>2762</td>\n",
       "      <td>1647</td>\n",
       "      <td>552</td>\n",
       "      <td>563</td>\n",
       "      <td>5947</td>\n",
       "      <td>3140</td>\n",
       "      <td>...</td>\n",
       "      <td>8</td>\n",
       "      <td>8</td>\n",
       "      <td>3</td>\n",
       "      <td>4</td>\n",
       "      <td>79</td>\n",
       "      <td>1929</td>\n",
       "      <td>1929</td>\n",
       "      <td>1</td>\n",
       "      <td>59.630702</td>\n",
       "      <td>Top</td>\n",
       "    </tr>\n",
       "    <tr>\n",
       "      <td>2</td>\n",
       "      <td>2</td>\n",
       "      <td>Barcelona</td>\n",
       "      <td>86</td>\n",
       "      <td>4262</td>\n",
       "      <td>2762</td>\n",
       "      <td>1581</td>\n",
       "      <td>573</td>\n",
       "      <td>608</td>\n",
       "      <td>5900</td>\n",
       "      <td>3114</td>\n",
       "      <td>...</td>\n",
       "      <td>12</td>\n",
       "      <td>12</td>\n",
       "      <td>4</td>\n",
       "      <td>6</td>\n",
       "      <td>83</td>\n",
       "      <td>1929</td>\n",
       "      <td>1929</td>\n",
       "      <td>1</td>\n",
       "      <td>57.241130</td>\n",
       "      <td>Top</td>\n",
       "    </tr>\n",
       "    <tr>\n",
       "      <td>3</td>\n",
       "      <td>3</td>\n",
       "      <td>Atletico Madrid</td>\n",
       "      <td>80</td>\n",
       "      <td>3442</td>\n",
       "      <td>2614</td>\n",
       "      <td>1241</td>\n",
       "      <td>598</td>\n",
       "      <td>775</td>\n",
       "      <td>4534</td>\n",
       "      <td>3309</td>\n",
       "      <td>...</td>\n",
       "      <td>16</td>\n",
       "      <td>9</td>\n",
       "      <td>7</td>\n",
       "      <td>6</td>\n",
       "      <td>56</td>\n",
       "      <td>1929</td>\n",
       "      <td>2003</td>\n",
       "      <td>1</td>\n",
       "      <td>47.475134</td>\n",
       "      <td>Top</td>\n",
       "    </tr>\n",
       "    <tr>\n",
       "      <td>4</td>\n",
       "      <td>4</td>\n",
       "      <td>Valencia</td>\n",
       "      <td>82</td>\n",
       "      <td>3386</td>\n",
       "      <td>2664</td>\n",
       "      <td>1187</td>\n",
       "      <td>616</td>\n",
       "      <td>861</td>\n",
       "      <td>4398</td>\n",
       "      <td>3469</td>\n",
       "      <td>...</td>\n",
       "      <td>10</td>\n",
       "      <td>11</td>\n",
       "      <td>10</td>\n",
       "      <td>7</td>\n",
       "      <td>50</td>\n",
       "      <td>1931</td>\n",
       "      <td>1988</td>\n",
       "      <td>1</td>\n",
       "      <td>44.557057</td>\n",
       "      <td>Top</td>\n",
       "    </tr>\n",
       "    <tr>\n",
       "      <td>5</td>\n",
       "      <td>5</td>\n",
       "      <td>Athletic Bilbao</td>\n",
       "      <td>86</td>\n",
       "      <td>3368</td>\n",
       "      <td>2762</td>\n",
       "      <td>1209</td>\n",
       "      <td>633</td>\n",
       "      <td>920</td>\n",
       "      <td>4631</td>\n",
       "      <td>3700</td>\n",
       "      <td>...</td>\n",
       "      <td>10</td>\n",
       "      <td>5</td>\n",
       "      <td>8</td>\n",
       "      <td>10</td>\n",
       "      <td>49</td>\n",
       "      <td>1929</td>\n",
       "      <td>1929</td>\n",
       "      <td>1</td>\n",
       "      <td>43.772629</td>\n",
       "      <td>Top</td>\n",
       "    </tr>\n",
       "  </tbody>\n",
       "</table>\n",
       "<p>5 rows × 22 columns</p>\n",
       "</div>"
      ],
      "text/plain": [
       "0 Pos             Team Seasons Points GamesPlayed GamesWon GamesDrawn  \\\n",
       "1   1      Real Madrid      86   4385        2762     1647        552   \n",
       "2   2        Barcelona      86   4262        2762     1581        573   \n",
       "3   3  Atletico Madrid      80   3442        2614     1241        598   \n",
       "4   4         Valencia      82   3386        2664     1187        616   \n",
       "5   5  Athletic Bilbao      86   3368        2762     1209        633   \n",
       "\n",
       "0 GamesLost GoalsFor GoalsAgainst  ... Third Fourth Fifth Sixth   T Debut  \\\n",
       "1       563     5947         3140  ...     8      8     3     4  79  1929   \n",
       "2       608     5900         3114  ...    12     12     4     6  83  1929   \n",
       "3       775     4534         3309  ...    16      9     7     6  56  1929   \n",
       "4       861     4398         3469  ...    10     11    10     7  50  1931   \n",
       "5       920     4631         3700  ...    10      5     8    10  49  1929   \n",
       "\n",
       "0 Since/LastApp  BestPosition  Winning_Percentage Position_Label  \n",
       "1          1929             1           59.630702            Top  \n",
       "2          1929             1           57.241130            Top  \n",
       "3          2003             1           47.475134            Top  \n",
       "4          1988             1           44.557057            Top  \n",
       "5          1929             1           43.772629            Top  \n",
       "\n",
       "[5 rows x 22 columns]"
      ]
     },
     "execution_count": 84,
     "metadata": {},
     "output_type": "execute_result"
    }
   ],
   "source": [
    "def Position_Label(x):\n",
    "    if int(x)<=3:\n",
    "        return 'Top'\n",
    "    elif int(x)<=7:\n",
    "        return 'Average'\n",
    "    else:\n",
    "        return 'Poor'\n",
    "\n",
    "laliga['Position_Label'] = laliga['BestPosition'].apply(Position_Label)\n",
    "laliga.head()"
   ]
  },
  {
   "cell_type": "code",
   "execution_count": 100,
   "metadata": {},
   "outputs": [
    {
     "name": "stdout",
     "output_type": "stream",
     "text": [
      "P_Value : 2e-05\n"
     ]
    }
   ],
   "source": [
    "# H0 : Winning Percentage of Top(1/2/3) Positions = Winning Percentage of Avg(4,5,6,7) Positions ||| No Difference\n",
    "# H1 : H0 is False\n",
    "\n",
    "Top_Win_Pct = laliga[laliga['Position_Label'] == 'Top'][['Winning_Percentage']]\n",
    "Avg_Win_Pct = laliga[laliga['Position_Label'] == 'Average'][['Winning_Percentage']]\n",
    "\n",
    "test_stat,p_value = stats.ttest_ind(Top_Win_Pct,Avg_Win_Pct)\n",
    "print('P_Value :',np.round(p_value[0],5))"
   ]
  },
  {
   "cell_type": "markdown",
   "metadata": {},
   "source": [
    "#### Conclusion:\n",
    "* `As (p_value)0.00002 < 0.05(5%), we Reject the Null Hypothesis, i.e.,`\n",
    "* `There is a Significant Difference in Win_Percentage between teams who attained 1-3 Positions compared to teams who attained 4-7 Positions.`"
   ]
  },
  {
   "cell_type": "markdown",
   "metadata": {},
   "source": [
    "-------------------"
   ]
  },
  {
   "cell_type": "markdown",
   "metadata": {},
   "source": [
    "2. A study was done to measure the blood pressure of 60 year old women with glaucoma. A random sample of 200 60-year old women with glaucoma was chosen. The mean of the systolic blood pressure in the sample was 140 mm Hg and the standard deviation was 25 mm Hg."
   ]
  },
  {
   "cell_type": "code",
   "execution_count": 113,
   "metadata": {},
   "outputs": [],
   "source": [
    "n = 200\n",
    "xbar = 140\n",
    "sigma = 25\n",
    "\n",
    "# Population SD is given so using Z-Test for Calculation of Intervals"
   ]
  },
  {
   "cell_type": "markdown",
   "metadata": {},
   "source": [
    "a)\tCalculate the estimated standard error of the sample mean? What does the standard error indicate?"
   ]
  },
  {
   "cell_type": "code",
   "execution_count": 114,
   "metadata": {},
   "outputs": [
    {
     "name": "stdout",
     "output_type": "stream",
     "text": [
      "Standard Error : 1.7677669529663687\n"
     ]
    }
   ],
   "source": [
    "# Standard Error\n",
    "std_error = sigma/np.sqrt(n)\n",
    "print('Standard Error :',std_error)"
   ]
  },
  {
   "cell_type": "markdown",
   "metadata": {},
   "source": [
    "Standard Error Indications:\n",
    "  * Standard Error is Low\n",
    "  * Mean Blood Pressure of the Sample is almost accurate represenatation of the Mean lood Pressure of the Population"
   ]
  },
  {
   "cell_type": "markdown",
   "metadata": {},
   "source": [
    "b)\tEstimate a 95% confidence interval for the true mean blood pressure for all 60-year old women with glaucoma."
   ]
  },
  {
   "cell_type": "code",
   "execution_count": 115,
   "metadata": {},
   "outputs": [
    {
     "name": "stdout",
     "output_type": "stream",
     "text": [
      "95% Confidence Interval : (136.5352404391258, 143.4647595608742)\n"
     ]
    }
   ],
   "source": [
    "print('95% Confidence Interval :',stats.norm.interval(0.95,xbar,std_error))"
   ]
  },
  {
   "cell_type": "code",
   "execution_count": 119,
   "metadata": {},
   "outputs": [
    {
     "data": {
      "text/plain": [
       "9.799819922700294"
      ]
     },
     "execution_count": 119,
     "metadata": {},
     "output_type": "execute_result"
    }
   ],
   "source": [
    "stats.norm.interval(0.95,xbar,std_error)[1] - stats.norm.interval(0.95,xbar,std_error)[0]"
   ]
  },
  {
   "cell_type": "markdown",
   "metadata": {},
   "source": [
    "c)\tAssume that instead of 200, a random sample of only 100 60-year old women with glaucoma was chosen. The sample mean and standard deviation estimates are the same as those in the original study. What is the estimated 95% confidence interval for the true mean blood pressure?"
   ]
  },
  {
   "cell_type": "code",
   "execution_count": 117,
   "metadata": {},
   "outputs": [],
   "source": [
    "#updated Sample\n",
    "n = 100\n",
    "xbar = 140\n",
    "sigma = 25"
   ]
  },
  {
   "cell_type": "code",
   "execution_count": 118,
   "metadata": {},
   "outputs": [
    {
     "name": "stdout",
     "output_type": "stream",
     "text": [
      "95% Confidence Interval for Updated Sample : (135.10009003864985, 144.89990996135015)\n"
     ]
    }
   ],
   "source": [
    "std_error = sigma/np.sqrt(n)\n",
    "\n",
    "print('95% Confidence Interval for Updated Sample :',stats.norm.interval(0.95,xbar,std_error))"
   ]
  },
  {
   "cell_type": "markdown",
   "metadata": {},
   "source": [
    "d)\tWhich of the two above intervals are wider?"
   ]
  },
  {
   "cell_type": "markdown",
   "metadata": {},
   "source": [
    "    * First Sample's Confidence Interval  : (136.5352, 143.4647)  | Interval Length : 6.9295\n",
    "    * Second Sample's Confidence Interval : (135.10009, 144.8999) | Interval Length : 9.7998\n",
    "\n",
    "* `We can see that the Second Interval(Sample Size : 100) is Wider than the Interval for Sample of 200`"
   ]
  },
  {
   "cell_type": "markdown",
   "metadata": {},
   "source": [
    "e)\tExplain in non-technical terms why the estimated standard error of a sample mean tends to decrease with an increase in sample size."
   ]
  },
  {
   "cell_type": "markdown",
   "metadata": {},
   "source": [
    "* `As Sample Size Increases, we can see that we get more observations on Population thus a better Idea about the Population.`\n",
    "* `So, We get a better (reduced) value for Standard Error.`"
   ]
  },
  {
   "cell_type": "markdown",
   "metadata": {},
   "source": [
    "----------------"
   ]
  },
  {
   "cell_type": "markdown",
   "metadata": {},
   "source": [
    "   3. Par Inc., is a major manufacturer of golf equipment. Management believes that Par’s market share could be increased \n",
    "with the introduction of a cut-resistant, longer-lasting golf ball. \n",
    "Therefore, the research group at Par has been investigating a new golf ball coating designed to resist cuts and provide a more durable ball. The tests with the coating have been promising.\n",
    "\n",
    "   One of the researchers voiced concern about the effect of the new coating on driving distances. \n",
    "\n",
    "   Par would like the new cut-resistant ball to offer driving distances comparable to those of the current-model golf ball. \n",
    "To compare the driving distances for the two balls, 40 balls of both the new and current models were subjected to distance tests. The testing was performed with a mechanical hitting machine so that any difference between the mean distances for the two models could be attributed to a difference in the design. \n",
    "\n",
    "   The results of the tests, with distances measured to the nearest yard, are contained in the data set “Golf”.\n"
   ]
  },
  {
   "cell_type": "code",
   "execution_count": 122,
   "metadata": {},
   "outputs": [
    {
     "data": {
      "text/html": [
       "<div>\n",
       "<style scoped>\n",
       "    .dataframe tbody tr th:only-of-type {\n",
       "        vertical-align: middle;\n",
       "    }\n",
       "\n",
       "    .dataframe tbody tr th {\n",
       "        vertical-align: top;\n",
       "    }\n",
       "\n",
       "    .dataframe thead th {\n",
       "        text-align: right;\n",
       "    }\n",
       "</style>\n",
       "<table border=\"1\" class=\"dataframe\">\n",
       "  <thead>\n",
       "    <tr style=\"text-align: right;\">\n",
       "      <th></th>\n",
       "      <th>Current</th>\n",
       "      <th>New</th>\n",
       "    </tr>\n",
       "  </thead>\n",
       "  <tbody>\n",
       "    <tr>\n",
       "      <td>0</td>\n",
       "      <td>264</td>\n",
       "      <td>277</td>\n",
       "    </tr>\n",
       "    <tr>\n",
       "      <td>1</td>\n",
       "      <td>261</td>\n",
       "      <td>269</td>\n",
       "    </tr>\n",
       "    <tr>\n",
       "      <td>2</td>\n",
       "      <td>267</td>\n",
       "      <td>263</td>\n",
       "    </tr>\n",
       "    <tr>\n",
       "      <td>3</td>\n",
       "      <td>272</td>\n",
       "      <td>266</td>\n",
       "    </tr>\n",
       "    <tr>\n",
       "      <td>4</td>\n",
       "      <td>258</td>\n",
       "      <td>262</td>\n",
       "    </tr>\n",
       "    <tr>\n",
       "      <td>5</td>\n",
       "      <td>283</td>\n",
       "      <td>251</td>\n",
       "    </tr>\n",
       "    <tr>\n",
       "      <td>6</td>\n",
       "      <td>258</td>\n",
       "      <td>262</td>\n",
       "    </tr>\n",
       "    <tr>\n",
       "      <td>7</td>\n",
       "      <td>266</td>\n",
       "      <td>289</td>\n",
       "    </tr>\n",
       "    <tr>\n",
       "      <td>8</td>\n",
       "      <td>259</td>\n",
       "      <td>286</td>\n",
       "    </tr>\n",
       "    <tr>\n",
       "      <td>9</td>\n",
       "      <td>270</td>\n",
       "      <td>264</td>\n",
       "    </tr>\n",
       "    <tr>\n",
       "      <td>10</td>\n",
       "      <td>263</td>\n",
       "      <td>274</td>\n",
       "    </tr>\n",
       "    <tr>\n",
       "      <td>11</td>\n",
       "      <td>264</td>\n",
       "      <td>266</td>\n",
       "    </tr>\n",
       "    <tr>\n",
       "      <td>12</td>\n",
       "      <td>284</td>\n",
       "      <td>262</td>\n",
       "    </tr>\n",
       "    <tr>\n",
       "      <td>13</td>\n",
       "      <td>263</td>\n",
       "      <td>271</td>\n",
       "    </tr>\n",
       "    <tr>\n",
       "      <td>14</td>\n",
       "      <td>260</td>\n",
       "      <td>260</td>\n",
       "    </tr>\n",
       "    <tr>\n",
       "      <td>15</td>\n",
       "      <td>283</td>\n",
       "      <td>281</td>\n",
       "    </tr>\n",
       "    <tr>\n",
       "      <td>16</td>\n",
       "      <td>255</td>\n",
       "      <td>250</td>\n",
       "    </tr>\n",
       "    <tr>\n",
       "      <td>17</td>\n",
       "      <td>272</td>\n",
       "      <td>263</td>\n",
       "    </tr>\n",
       "    <tr>\n",
       "      <td>18</td>\n",
       "      <td>266</td>\n",
       "      <td>278</td>\n",
       "    </tr>\n",
       "    <tr>\n",
       "      <td>19</td>\n",
       "      <td>268</td>\n",
       "      <td>264</td>\n",
       "    </tr>\n",
       "    <tr>\n",
       "      <td>20</td>\n",
       "      <td>270</td>\n",
       "      <td>272</td>\n",
       "    </tr>\n",
       "    <tr>\n",
       "      <td>21</td>\n",
       "      <td>287</td>\n",
       "      <td>259</td>\n",
       "    </tr>\n",
       "    <tr>\n",
       "      <td>22</td>\n",
       "      <td>289</td>\n",
       "      <td>264</td>\n",
       "    </tr>\n",
       "    <tr>\n",
       "      <td>23</td>\n",
       "      <td>280</td>\n",
       "      <td>280</td>\n",
       "    </tr>\n",
       "    <tr>\n",
       "      <td>24</td>\n",
       "      <td>272</td>\n",
       "      <td>274</td>\n",
       "    </tr>\n",
       "    <tr>\n",
       "      <td>25</td>\n",
       "      <td>275</td>\n",
       "      <td>281</td>\n",
       "    </tr>\n",
       "    <tr>\n",
       "      <td>26</td>\n",
       "      <td>265</td>\n",
       "      <td>276</td>\n",
       "    </tr>\n",
       "    <tr>\n",
       "      <td>27</td>\n",
       "      <td>260</td>\n",
       "      <td>269</td>\n",
       "    </tr>\n",
       "    <tr>\n",
       "      <td>28</td>\n",
       "      <td>278</td>\n",
       "      <td>268</td>\n",
       "    </tr>\n",
       "    <tr>\n",
       "      <td>29</td>\n",
       "      <td>275</td>\n",
       "      <td>262</td>\n",
       "    </tr>\n",
       "    <tr>\n",
       "      <td>30</td>\n",
       "      <td>281</td>\n",
       "      <td>283</td>\n",
       "    </tr>\n",
       "    <tr>\n",
       "      <td>31</td>\n",
       "      <td>274</td>\n",
       "      <td>250</td>\n",
       "    </tr>\n",
       "    <tr>\n",
       "      <td>32</td>\n",
       "      <td>273</td>\n",
       "      <td>253</td>\n",
       "    </tr>\n",
       "    <tr>\n",
       "      <td>33</td>\n",
       "      <td>263</td>\n",
       "      <td>260</td>\n",
       "    </tr>\n",
       "    <tr>\n",
       "      <td>34</td>\n",
       "      <td>275</td>\n",
       "      <td>270</td>\n",
       "    </tr>\n",
       "    <tr>\n",
       "      <td>35</td>\n",
       "      <td>267</td>\n",
       "      <td>263</td>\n",
       "    </tr>\n",
       "    <tr>\n",
       "      <td>36</td>\n",
       "      <td>279</td>\n",
       "      <td>261</td>\n",
       "    </tr>\n",
       "    <tr>\n",
       "      <td>37</td>\n",
       "      <td>274</td>\n",
       "      <td>255</td>\n",
       "    </tr>\n",
       "    <tr>\n",
       "      <td>38</td>\n",
       "      <td>276</td>\n",
       "      <td>263</td>\n",
       "    </tr>\n",
       "    <tr>\n",
       "      <td>39</td>\n",
       "      <td>262</td>\n",
       "      <td>279</td>\n",
       "    </tr>\n",
       "  </tbody>\n",
       "</table>\n",
       "</div>"
      ],
      "text/plain": [
       "    Current  New\n",
       "0       264  277\n",
       "1       261  269\n",
       "2       267  263\n",
       "3       272  266\n",
       "4       258  262\n",
       "5       283  251\n",
       "6       258  262\n",
       "7       266  289\n",
       "8       259  286\n",
       "9       270  264\n",
       "10      263  274\n",
       "11      264  266\n",
       "12      284  262\n",
       "13      263  271\n",
       "14      260  260\n",
       "15      283  281\n",
       "16      255  250\n",
       "17      272  263\n",
       "18      266  278\n",
       "19      268  264\n",
       "20      270  272\n",
       "21      287  259\n",
       "22      289  264\n",
       "23      280  280\n",
       "24      272  274\n",
       "25      275  281\n",
       "26      265  276\n",
       "27      260  269\n",
       "28      278  268\n",
       "29      275  262\n",
       "30      281  283\n",
       "31      274  250\n",
       "32      273  253\n",
       "33      263  260\n",
       "34      275  270\n",
       "35      267  263\n",
       "36      279  261\n",
       "37      274  255\n",
       "38      276  263\n",
       "39      262  279"
      ]
     },
     "execution_count": 122,
     "metadata": {},
     "output_type": "execute_result"
    }
   ],
   "source": [
    "golf = pd.read_csv('Golf.csv')\n",
    "golf"
   ]
  },
  {
   "cell_type": "markdown",
   "metadata": {},
   "source": [
    "* 1.\tFormulate and present the rationale for a hypothesis test that Par could use to compare the driving distances of the current and new golf balls.\n"
   ]
  },
  {
   "cell_type": "markdown",
   "metadata": {},
   "source": [
    "* `We are Given the Distance to which the balls were hit current & new coating models`\n",
    "* `We need to compare the average distance achieved`\n",
    "\n",
    "        * H0 : No Difference in Average driving distance | avg_driving_distance_present = avg_driving_distance_new\n",
    "        * H1 : H0 is False | avg_driving_distance_new - avg_driving_distance_present > 0\n",
    "    \n",
    "* `Above Mentioned would be my Hypothesis, and this test would help Par to compare the distance and if Null Hypothesis is rejected, then the New Coating Design is effective.`"
   ]
  },
  {
   "cell_type": "markdown",
   "metadata": {},
   "source": [
    "* 2.\tAnalyze the data to provide the hypothesis testing conclusion. What is the p-value for your test? What is your recommendation for Par Inc.?"
   ]
  },
  {
   "cell_type": "code",
   "execution_count": 128,
   "metadata": {},
   "outputs": [
    {
     "name": "stdout",
     "output_type": "stream",
     "text": [
      "P_Value : 0.20916361823147053\n"
     ]
    }
   ],
   "source": [
    "test_stat,p_value = stats.ttest_rel(golf['Current'],golf['New'])\n",
    "\n",
    "print('P_Value :',p_value)"
   ]
  },
  {
   "cell_type": "markdown",
   "metadata": {},
   "source": [
    "When considering on 95% confidence, we can see that p_value(0.2091) > alpha(0.05).\n",
    "### `Recommendation : There is no Effect of the New Model on the Golf Balls, Par needs to perform more research and studies`"
   ]
  },
  {
   "cell_type": "markdown",
   "metadata": {},
   "source": [
    "* 3.\tWhat is the 95% confidence interval for the population mean of each model, and what is the 95% confidence interval for the difference between the means of the two population?"
   ]
  },
  {
   "cell_type": "code",
   "execution_count": 153,
   "metadata": {},
   "outputs": [
    {
     "name": "stdout",
     "output_type": "stream",
     "text": [
      "95% Confidence Interval for Current Model \t: (267.47565965314044, 273.0743403468595)\n",
      "\n",
      "95% Confidence Interval for New Model \t\t: (264.33481641038986, 270.66518358961014)\n",
      "\u001b[1m\n",
      "95% Confidence Interval for Differences in Driving Distance between 2 Models :\n",
      "\n",
      "\t\t\t (8.025753341581375, 13.624246658418624)\n"
     ]
    }
   ],
   "source": [
    "print('95% Confidence Interval for Current Model \\t:',\\\n",
    "      stats.t.interval(0.95, len(golf.Current)-1, golf.Current.mean(), golf.Current.sem()))\n",
    "\n",
    "print('\\n95% Confidence Interval for New Model \\t\\t:',\\\n",
    "      stats.t.interval(0.95, len(golf.New)-1, golf.New.mean(), golf.New.sem()))\n",
    "\n",
    "\n",
    "# Difference Calculation\n",
    "golf['Difference'] = np.abs(golf['Current'] - golf['New'])\n",
    "\n",
    "diff_confidence_interval = stats.t.interval(0.95, len(golf['Difference'])-1, golf['Difference'].mean(), golf['Difference'].sem())\n",
    "\n",
    "print('\\033[1m'+'\\n95% Confidence Interval for Differences in Driving Distance between 2 Models :\\n\\n\\t\\t\\t',diff_confidence_interval)\n"
   ]
  }
 ],
 "metadata": {
  "kernelspec": {
   "display_name": "Python 3",
   "language": "python",
   "name": "python3"
  },
  "language_info": {
   "codemirror_mode": {
    "name": "ipython",
    "version": 3
   },
   "file_extension": ".py",
   "mimetype": "text/x-python",
   "name": "python",
   "nbconvert_exporter": "python",
   "pygments_lexer": "ipython3",
   "version": "3.7.4"
  }
 },
 "nbformat": 4,
 "nbformat_minor": 2
}
